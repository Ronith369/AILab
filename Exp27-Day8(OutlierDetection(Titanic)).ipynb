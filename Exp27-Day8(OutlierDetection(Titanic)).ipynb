{
 "cells": [
  {
   "cell_type": "code",
   "execution_count": 10,
   "id": "7e7ea718",
   "metadata": {},
   "outputs": [],
   "source": [
    "import pandas as pd\n",
    "import numpy as np\n",
    "import matplotlib.pyplot as plt\n",
    "import matplotlib.cm as cm"
   ]
  },
  {
   "cell_type": "code",
   "execution_count": 11,
   "id": "4714ce8a",
   "metadata": {},
   "outputs": [
    {
     "data": {
      "text/html": [
       "<div>\n",
       "<style scoped>\n",
       "    .dataframe tbody tr th:only-of-type {\n",
       "        vertical-align: middle;\n",
       "    }\n",
       "\n",
       "    .dataframe tbody tr th {\n",
       "        vertical-align: top;\n",
       "    }\n",
       "\n",
       "    .dataframe thead th {\n",
       "        text-align: right;\n",
       "    }\n",
       "</style>\n",
       "<table border=\"1\" class=\"dataframe\">\n",
       "  <thead>\n",
       "    <tr style=\"text-align: right;\">\n",
       "      <th></th>\n",
       "      <th>survived</th>\n",
       "      <th>pclass</th>\n",
       "      <th>sex</th>\n",
       "      <th>age</th>\n",
       "      <th>sibsp</th>\n",
       "      <th>parch</th>\n",
       "      <th>fare</th>\n",
       "      <th>embarked</th>\n",
       "      <th>class</th>\n",
       "      <th>who</th>\n",
       "      <th>adult_male</th>\n",
       "      <th>deck</th>\n",
       "      <th>embark_town</th>\n",
       "      <th>alive</th>\n",
       "      <th>alone</th>\n",
       "    </tr>\n",
       "  </thead>\n",
       "  <tbody>\n",
       "    <tr>\n",
       "      <th>0</th>\n",
       "      <td>0</td>\n",
       "      <td>3</td>\n",
       "      <td>male</td>\n",
       "      <td>22.0</td>\n",
       "      <td>1</td>\n",
       "      <td>0</td>\n",
       "      <td>7.2500</td>\n",
       "      <td>S</td>\n",
       "      <td>Third</td>\n",
       "      <td>man</td>\n",
       "      <td>True</td>\n",
       "      <td>NaN</td>\n",
       "      <td>Southampton</td>\n",
       "      <td>no</td>\n",
       "      <td>False</td>\n",
       "    </tr>\n",
       "    <tr>\n",
       "      <th>1</th>\n",
       "      <td>1</td>\n",
       "      <td>1</td>\n",
       "      <td>female</td>\n",
       "      <td>38.0</td>\n",
       "      <td>1</td>\n",
       "      <td>0</td>\n",
       "      <td>71.2833</td>\n",
       "      <td>C</td>\n",
       "      <td>First</td>\n",
       "      <td>woman</td>\n",
       "      <td>False</td>\n",
       "      <td>C</td>\n",
       "      <td>Cherbourg</td>\n",
       "      <td>yes</td>\n",
       "      <td>False</td>\n",
       "    </tr>\n",
       "    <tr>\n",
       "      <th>2</th>\n",
       "      <td>1</td>\n",
       "      <td>3</td>\n",
       "      <td>female</td>\n",
       "      <td>26.0</td>\n",
       "      <td>0</td>\n",
       "      <td>0</td>\n",
       "      <td>7.9250</td>\n",
       "      <td>S</td>\n",
       "      <td>Third</td>\n",
       "      <td>woman</td>\n",
       "      <td>False</td>\n",
       "      <td>NaN</td>\n",
       "      <td>Southampton</td>\n",
       "      <td>yes</td>\n",
       "      <td>True</td>\n",
       "    </tr>\n",
       "    <tr>\n",
       "      <th>3</th>\n",
       "      <td>1</td>\n",
       "      <td>1</td>\n",
       "      <td>female</td>\n",
       "      <td>35.0</td>\n",
       "      <td>1</td>\n",
       "      <td>0</td>\n",
       "      <td>53.1000</td>\n",
       "      <td>S</td>\n",
       "      <td>First</td>\n",
       "      <td>woman</td>\n",
       "      <td>False</td>\n",
       "      <td>C</td>\n",
       "      <td>Southampton</td>\n",
       "      <td>yes</td>\n",
       "      <td>False</td>\n",
       "    </tr>\n",
       "    <tr>\n",
       "      <th>4</th>\n",
       "      <td>0</td>\n",
       "      <td>3</td>\n",
       "      <td>male</td>\n",
       "      <td>35.0</td>\n",
       "      <td>0</td>\n",
       "      <td>0</td>\n",
       "      <td>8.0500</td>\n",
       "      <td>S</td>\n",
       "      <td>Third</td>\n",
       "      <td>man</td>\n",
       "      <td>True</td>\n",
       "      <td>NaN</td>\n",
       "      <td>Southampton</td>\n",
       "      <td>no</td>\n",
       "      <td>True</td>\n",
       "    </tr>\n",
       "    <tr>\n",
       "      <th>...</th>\n",
       "      <td>...</td>\n",
       "      <td>...</td>\n",
       "      <td>...</td>\n",
       "      <td>...</td>\n",
       "      <td>...</td>\n",
       "      <td>...</td>\n",
       "      <td>...</td>\n",
       "      <td>...</td>\n",
       "      <td>...</td>\n",
       "      <td>...</td>\n",
       "      <td>...</td>\n",
       "      <td>...</td>\n",
       "      <td>...</td>\n",
       "      <td>...</td>\n",
       "      <td>...</td>\n",
       "    </tr>\n",
       "    <tr>\n",
       "      <th>886</th>\n",
       "      <td>0</td>\n",
       "      <td>2</td>\n",
       "      <td>male</td>\n",
       "      <td>27.0</td>\n",
       "      <td>0</td>\n",
       "      <td>0</td>\n",
       "      <td>13.0000</td>\n",
       "      <td>S</td>\n",
       "      <td>Second</td>\n",
       "      <td>man</td>\n",
       "      <td>True</td>\n",
       "      <td>NaN</td>\n",
       "      <td>Southampton</td>\n",
       "      <td>no</td>\n",
       "      <td>True</td>\n",
       "    </tr>\n",
       "    <tr>\n",
       "      <th>887</th>\n",
       "      <td>1</td>\n",
       "      <td>1</td>\n",
       "      <td>female</td>\n",
       "      <td>19.0</td>\n",
       "      <td>0</td>\n",
       "      <td>0</td>\n",
       "      <td>30.0000</td>\n",
       "      <td>S</td>\n",
       "      <td>First</td>\n",
       "      <td>woman</td>\n",
       "      <td>False</td>\n",
       "      <td>B</td>\n",
       "      <td>Southampton</td>\n",
       "      <td>yes</td>\n",
       "      <td>True</td>\n",
       "    </tr>\n",
       "    <tr>\n",
       "      <th>888</th>\n",
       "      <td>0</td>\n",
       "      <td>3</td>\n",
       "      <td>female</td>\n",
       "      <td>NaN</td>\n",
       "      <td>1</td>\n",
       "      <td>2</td>\n",
       "      <td>23.4500</td>\n",
       "      <td>S</td>\n",
       "      <td>Third</td>\n",
       "      <td>woman</td>\n",
       "      <td>False</td>\n",
       "      <td>NaN</td>\n",
       "      <td>Southampton</td>\n",
       "      <td>no</td>\n",
       "      <td>False</td>\n",
       "    </tr>\n",
       "    <tr>\n",
       "      <th>889</th>\n",
       "      <td>1</td>\n",
       "      <td>1</td>\n",
       "      <td>male</td>\n",
       "      <td>26.0</td>\n",
       "      <td>0</td>\n",
       "      <td>0</td>\n",
       "      <td>30.0000</td>\n",
       "      <td>C</td>\n",
       "      <td>First</td>\n",
       "      <td>man</td>\n",
       "      <td>True</td>\n",
       "      <td>C</td>\n",
       "      <td>Cherbourg</td>\n",
       "      <td>yes</td>\n",
       "      <td>True</td>\n",
       "    </tr>\n",
       "    <tr>\n",
       "      <th>890</th>\n",
       "      <td>0</td>\n",
       "      <td>3</td>\n",
       "      <td>male</td>\n",
       "      <td>32.0</td>\n",
       "      <td>0</td>\n",
       "      <td>0</td>\n",
       "      <td>7.7500</td>\n",
       "      <td>Q</td>\n",
       "      <td>Third</td>\n",
       "      <td>man</td>\n",
       "      <td>True</td>\n",
       "      <td>NaN</td>\n",
       "      <td>Queenstown</td>\n",
       "      <td>no</td>\n",
       "      <td>True</td>\n",
       "    </tr>\n",
       "  </tbody>\n",
       "</table>\n",
       "<p>891 rows × 15 columns</p>\n",
       "</div>"
      ],
      "text/plain": [
       "     survived  pclass     sex   age  sibsp  parch     fare embarked   class  \\\n",
       "0           0       3    male  22.0      1      0   7.2500        S   Third   \n",
       "1           1       1  female  38.0      1      0  71.2833        C   First   \n",
       "2           1       3  female  26.0      0      0   7.9250        S   Third   \n",
       "3           1       1  female  35.0      1      0  53.1000        S   First   \n",
       "4           0       3    male  35.0      0      0   8.0500        S   Third   \n",
       "..        ...     ...     ...   ...    ...    ...      ...      ...     ...   \n",
       "886         0       2    male  27.0      0      0  13.0000        S  Second   \n",
       "887         1       1  female  19.0      0      0  30.0000        S   First   \n",
       "888         0       3  female   NaN      1      2  23.4500        S   Third   \n",
       "889         1       1    male  26.0      0      0  30.0000        C   First   \n",
       "890         0       3    male  32.0      0      0   7.7500        Q   Third   \n",
       "\n",
       "       who  adult_male deck  embark_town alive  alone  \n",
       "0      man        True  NaN  Southampton    no  False  \n",
       "1    woman       False    C    Cherbourg   yes  False  \n",
       "2    woman       False  NaN  Southampton   yes   True  \n",
       "3    woman       False    C  Southampton   yes  False  \n",
       "4      man        True  NaN  Southampton    no   True  \n",
       "..     ...         ...  ...          ...   ...    ...  \n",
       "886    man        True  NaN  Southampton    no   True  \n",
       "887  woman       False    B  Southampton   yes   True  \n",
       "888  woman       False  NaN  Southampton    no  False  \n",
       "889    man        True    C    Cherbourg   yes   True  \n",
       "890    man        True  NaN   Queenstown    no   True  \n",
       "\n",
       "[891 rows x 15 columns]"
      ]
     },
     "execution_count": 11,
     "metadata": {},
     "output_type": "execute_result"
    }
   ],
   "source": [
    "titanic_df = pd.read_csv(\"C:\\\\Users\\\\CSINFO17\\\\AI_Lab\\\\titanic.csv\")\n",
    "titanic_df"
   ]
  },
  {
   "cell_type": "markdown",
   "id": "34b2f67c",
   "metadata": {},
   "source": [
    "# Scatter plot to detect outliers"
   ]
  },
  {
   "cell_type": "code",
   "execution_count": 22,
   "id": "7c576de9",
   "metadata": {},
   "outputs": [
    {
     "data": {
      "image/png": "[encoded data removed]",
      "text/plain": [
       "<Figure size 640x480 with 1 Axes>"
      ]
     },
     "metadata": {},
     "output_type": "display_data"
    }
   ],
   "source": [
    "plt.scatter(titanic_df['age'],titanic_df['fare'],color = 'red',marker = \"*\")\n",
    "plt.xlabel('Age')\n",
    "plt.ylabel('Fare')\n",
    "plt.title('Scatter Plot')\n",
    "plt.show()"
   ]
  },
  {
   "cell_type": "markdown",
   "id": "19d9857c",
   "metadata": {},
   "source": [
    "# Box plot to detect outliers"
   ]
  },
  {
   "cell_type": "code",
   "execution_count": 28,
   "id": "6ea76f1d",
   "metadata": {},
   "outputs": [
    {
     "data": {
      "text/plain": [
       "<Axes: >"
      ]
     },
     "execution_count": 28,
     "metadata": {},
     "output_type": "execute_result"
    },
    {
     "data": {
      "image/png": "[encoded data removed]",
      "text/plain": [
       "<Figure size 600x600 with 1 Axes>"
      ]
     },
     "metadata": {},
     "output_type": "display_data"
    }
   ],
   "source": [
    "titanic_df['age'].plot(kind = 'box',figsize = (6,6))"
   ]
  },
  {
   "cell_type": "code",
   "execution_count": 31,
   "id": "9960b621",
   "metadata": {},
   "outputs": [
    {
     "name": "stdout",
     "output_type": "stream",
     "text": [
      "The following are the outliers in the boxplot of age:\n",
      " 33     66.0\n",
      "54     65.0\n",
      "96     71.0\n",
      "116    70.5\n",
      "280    65.0\n",
      "456    65.0\n",
      "493    71.0\n",
      "630    80.0\n",
      "672    70.0\n",
      "745    70.0\n",
      "851    74.0\n",
      "Name: age, dtype: float64\n"
     ]
    }
   ],
   "source": [
    "q1 = titanic_df['age'].quantile(0.25)\n",
    "q3 = titanic_df['age'].quantile(0.75)\n",
    "iqr = q3-q1\n",
    "upper_bound = q3+(1.5*iqr)\n",
    "lower_bound = q1-(1.5*iqr)\n",
    "age_arr = titanic_df['age']\n",
    "outliers = age_arr[(age_arr <= lower_bound) | (age_arr >= upper_bound)]\n",
    "print('The following are the outliers in the boxplot of age:\\n',outliers)"
   ]
  },
  {
   "cell_type": "markdown",
   "id": "12d6cd6c",
   "metadata": {},
   "source": [
    "# Histogram to detect outliers"
   ]
  },
  {
   "cell_type": "code",
   "execution_count": 32,
   "id": "1d251d04",
   "metadata": {},
   "outputs": [
    {
     "data": {
      "text/plain": [
       "<Axes: ylabel='Frequency'>"
      ]
     },
     "execution_count": 32,
     "metadata": {},
     "output_type": "execute_result"
    },
    {
     "data": {
      "image/png": "[encoded data removed]",
      "text/plain": [
       "<Figure size 640x480 with 1 Axes>"
      ]
     },
     "metadata": {},
     "output_type": "display_data"
    }
   ],
   "source": [
    "titanic_df['fare'].plot(kind = 'hist')"
   ]
  },
  {
   "cell_type": "markdown",
   "id": "6b0c21c1",
   "metadata": {},
   "source": [
    "# Remove data object with outliers"
   ]
  },
  {
   "cell_type": "code",
   "execution_count": 33,
   "id": "6768de9c",
   "metadata": {},
   "outputs": [
    {
     "name": "stdout",
     "output_type": "stream",
     "text": [
      "<class 'pandas.core.frame.DataFrame'>\n",
      "Int64Index: 880 entries, 0 to 890\n",
      "Data columns (total 15 columns):\n",
      " #   Column       Non-Null Count  Dtype  \n",
      "---  ------       --------------  -----  \n",
      " 0   survived     880 non-null    int64  \n",
      " 1   pclass       880 non-null    int64  \n",
      " 2   sex          880 non-null    object \n",
      " 3   age          703 non-null    float64\n",
      " 4   sibsp        880 non-null    int64  \n",
      " 5   parch        880 non-null    int64  \n",
      " 6   fare         880 non-null    float64\n",
      " 7   embarked     878 non-null    object \n",
      " 8   class        880 non-null    object \n",
      " 9   who          880 non-null    object \n",
      " 10  adult_male   880 non-null    bool   \n",
      " 11  deck         198 non-null    object \n",
      " 12  embark_town  878 non-null    object \n",
      " 13  alive        880 non-null    object \n",
      " 14  alone        880 non-null    bool   \n",
      "dtypes: bool(2), float64(2), int64(4), object(7)\n",
      "memory usage: 98.0+ KB\n"
     ]
    }
   ],
   "source": [
    "upperIndex = titanic_df[titanic_df['age'] > upper_bound].index\n",
    "titanic_df.drop(upperIndex,inplace = True)\n",
    "lowerIndex = titanic_df[titanic_df['age'] < lower_bound].index\n",
    "titanic_df.drop(lowerIndex,inplace = True)\n",
    "titanic_df.info()"
   ]
  },
  {
   "cell_type": "markdown",
   "id": "f1cde446",
   "metadata": {},
   "source": [
    "# Replacing outliers with upper and lowercap:\n",
    "Uppercapis 90% Lower cap is 1%"
   ]
  },
  {
   "cell_type": "code",
   "execution_count": 35,
   "id": "3db78f63",
   "metadata": {},
   "outputs": [
    {
     "name": "stdout",
     "output_type": "stream",
     "text": [
      "The following are the outliers in the boxplot of fare:\n",
      " 27     263.0000\n",
      "88     263.0000\n",
      "258    512.3292\n",
      "311    262.3750\n",
      "341    263.0000\n",
      "438    263.0000\n",
      "679    512.3292\n",
      "737    512.3292\n",
      "742    262.3750\n",
      "Name: fare, dtype: float64\n"
     ]
    }
   ],
   "source": [
    "fare_arr = titanic_df['fare']\n",
    "upper_cap = np.percentile(fare_arr,1)\n",
    "lower_cap = np.percentile(fare_arr,99)\n",
    "outliers = fare_arr[(fare_arr < upper_cap) | (fare_arr > lower_cap)]\n",
    "print('The following are the outliers in the boxplot of fare:\\n',outliers)"
   ]
  },
  {
   "cell_type": "code",
   "execution_count": 42,
   "id": "3ad207a4",
   "metadata": {},
   "outputs": [
    {
     "name": "stdout",
     "output_type": "stream",
     "text": [
      "<class 'pandas.core.frame.DataFrame'>\n",
      "Int64Index: 880 entries, 0 to 890\n",
      "Data columns (total 15 columns):\n",
      " #   Column       Non-Null Count  Dtype  \n",
      "---  ------       --------------  -----  \n",
      " 0   survived     880 non-null    int64  \n",
      " 1   pclass       880 non-null    int64  \n",
      " 2   sex          880 non-null    object \n",
      " 3   age          703 non-null    float64\n",
      " 4   sibsp        880 non-null    int64  \n",
      " 5   parch        880 non-null    int64  \n",
      " 6   fare         880 non-null    float64\n",
      " 7   embarked     878 non-null    object \n",
      " 8   class        880 non-null    object \n",
      " 9   who          880 non-null    object \n",
      " 10  adult_male   880 non-null    bool   \n",
      " 11  deck         198 non-null    object \n",
      " 12  embark_town  878 non-null    object \n",
      " 13  alive        880 non-null    object \n",
      " 14  alone        880 non-null    bool   \n",
      "dtypes: bool(2), float64(2), int64(4), object(7)\n",
      "memory usage: 98.0+ KB\n"
     ]
    }
   ],
   "source": [
    "for i in titanic_df['fare']:\n",
    "    if i < lower_bound:\n",
    "        titanic_df['fare'] = titanic_df['fare'].replace(i,lower_cap)\n",
    "    elif i > upper_bound:\n",
    "        titanic_df['fare'] = titanic_df['fare'].replace(i,upper_cap)\n",
    "titanic_df.info()"
   ]
  },
  {
   "cell_type": "markdown",
   "id": "a8b2d5a4",
   "metadata": {},
   "source": [
    "# Relpacing outliers with mean"
   ]
  },
  {
   "cell_type": "code",
   "execution_count": 45,
   "id": "e2264f7c",
   "metadata": {},
   "outputs": [],
   "source": [
    "titanic_df = pd.read_csv(\"titanic.csv\")"
   ]
  },
  {
   "cell_type": "code",
   "execution_count": 46,
   "id": "fadf77c3",
   "metadata": {},
   "outputs": [
    {
     "name": "stdout",
     "output_type": "stream",
     "text": [
      "mean: 29.69911764705882\n"
     ]
    }
   ],
   "source": [
    "m = np.mean(titanic_df['age'])\n",
    "print('mean:',m)\n",
    "for i in titanic_df['age']:\n",
    "    if i < lower_bound or i > upper_bound:\n",
    "        titanic_df['age'] = titanic_df['age'].replace(i,m)"
   ]
  },
  {
   "cell_type": "markdown",
   "id": "f9fdec08",
   "metadata": {},
   "source": [
    "# Replacing outliers with median"
   ]
  },
  {
   "cell_type": "code",
   "execution_count": 47,
   "id": "5195827a",
   "metadata": {},
   "outputs": [],
   "source": [
    "titanic_df = pd.read_csv(\"titanic.csv\")"
   ]
  },
  {
   "cell_type": "code",
   "execution_count": 49,
   "id": "a0afc494",
   "metadata": {},
   "outputs": [],
   "source": [
    "q1 = titanic_df['age'].quantile(0.25)\n",
    "q3 = titanic_df['age'].quantile(0.75)\n",
    "iqr = q3-q1\n",
    "upper_bound = q3+(1.5*iqr)\n",
    "lower_bound = q1-(1.5*iqr)"
   ]
  },
  {
   "cell_type": "code",
   "execution_count": 50,
   "id": "e39415f5",
   "metadata": {},
   "outputs": [
    {
     "name": "stdout",
     "output_type": "stream",
     "text": [
      "28.0\n"
     ]
    }
   ],
   "source": [
    "m = titanic_df['age'].median()\n",
    "print(m)\n",
    "for i in titanic_df['age']:\n",
    "    if i < lower_bound or i > upper_bound:\n",
    "        titanic_df['age'] = titanic_df['age'].replace(i,m)"
   ]
  }
 ],
 "metadata": {
  "kernelspec": {
   "display_name": "Python 3 (ipykernel)",
   "language": "python",
   "name": "python3"
  },
  "language_info": {
   "codemirror_mode": {
    "name": "ipython",
    "version": 3
   },
   "file_extension": ".py",
   "mimetype": "text/x-python",
   "name": "python",
   "nbconvert_exporter": "python",
   "pygments_lexer": "ipython3",
   "version": "3.11.3"
  }
 },
 "nbformat": 4,
 "nbformat_minor": 5
}
