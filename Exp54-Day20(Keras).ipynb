{
 "cells": [
  {
   "cell_type": "code",
   "execution_count": 19,
   "id": "4c2e5e69",
   "metadata": {},
   "outputs": [],
   "source": [
    "import tensorflow as tf\n",
    "from keras.models import Sequential\n",
    "from keras.layers import Dense,Conv2D,Flatten,MaxPool2D\n",
    "from keras.datasets import mnist\n",
    "from keras.utils import to_categorical\n",
    "import numpy as np\n",
    "import matplotlib.pyplot as plt"
   ]
  },
  {
   "cell_type": "code",
   "execution_count": 20,
   "id": "76e2f8d9",
   "metadata": {},
   "outputs": [],
   "source": [
    "mnist = tf.keras.datasets.mnist\n",
    "(x_train,y_train),(x_test,y_test) = mnist.load_data()\n",
    "x_train,x_test = x_train/255.0,x_test/255.0"
   ]
  },
  {
   "cell_type": "code",
   "execution_count": 25,
   "id": "6d3ae8bb",
   "metadata": {},
   "outputs": [],
   "source": [
    "model = Sequential()\n",
    "model.add(Conv2D(64,kernel_size = 3,activation = 'relu',input_shape = (28,28,1)))\n",
    "model.add(Conv2D(32,kernel_size = 3,activation = 'relu'))\n",
    "model.add(MaxPool2D(pool_size = (2,2),strides = None,padding = 'valid',data_format = None))\n",
    "model.add(Flatten())\n",
    "model.add(Dense(10,activation = 'softmax'))"
   ]
  },
  {
   "cell_type": "code",
   "execution_count": 26,
   "id": "52841431",
   "metadata": {},
   "outputs": [],
   "source": [
    "model.compile(optimizer = 'SGD',\n",
    "             loss = 'sparse_categorical_crossentropy',\n",
    "             metrics = ['accuracy'])"
   ]
  },
  {
   "cell_type": "code",
   "execution_count": 27,
   "id": "f12aaa4c",
   "metadata": {},
   "outputs": [],
   "source": [
    " tf_callbacks = tf.keras.callbacks.TensorBoard(log_dir = \"logs/fit\",histogram_freq = 1)"
   ]
  },
  {
   "cell_type": "code",
   "execution_count": null,
   "id": "f33ca25a",
   "metadata": {},
   "outputs": [
    {
     "name": "stdout",
     "output_type": "stream",
     "text": [
      "Epoch 1/10\n",
      "1875/1875 [==============================] - 571s 304ms/step - loss: 0.4875 - accuracy: 0.8608 - val_loss: 0.3000 - val_accuracy: 0.9133\n",
      "Epoch 2/10\n",
      "1875/1875 [==============================] - 528s 281ms/step - loss: 0.2476 - accuracy: 0.9278 - val_loss: 0.1688 - val_accuracy: 0.9505\n",
      "Epoch 3/10\n",
      "1875/1875 [==============================] - 377s 201ms/step - loss: 0.1453 - accuracy: 0.9589 - val_loss: 0.1013 - val_accuracy: 0.9714\n",
      "Epoch 4/10\n",
      "1875/1875 [==============================] - 383s 204ms/step - loss: 0.0994 - accuracy: 0.9718 - val_loss: 0.0783 - val_accuracy: 0.9756\n",
      "Epoch 5/10\n",
      "1875/1875 [==============================] - 400s 213ms/step - loss: 0.0803 - accuracy: 0.9771 - val_loss: 0.0694 - val_accuracy: 0.9783\n",
      "Epoch 6/10\n",
      "1875/1875 [==============================] - 390s 208ms/step - loss: 0.0696 - accuracy: 0.9794 - val_loss: 0.0654 - val_accuracy: 0.9775\n",
      "Epoch 7/10\n",
      "1875/1875 [==============================] - 406s 216ms/step - loss: 0.0628 - accuracy: 0.9815 - val_loss: 0.0618 - val_accuracy: 0.9798\n",
      "Epoch 8/10\n",
      "1875/1875 [==============================] - 405s 216ms/step - loss: 0.0572 - accuracy: 0.9832 - val_loss: 0.0526 - val_accuracy: 0.9835\n",
      "Epoch 9/10\n",
      "1875/1875 [==============================] - 379s 202ms/step - loss: 0.0532 - accuracy: 0.9841 - val_loss: 0.0512 - val_accuracy: 0.9831\n",
      "Epoch 10/10\n",
      "1875/1875 [==============================] - ETA: 0s - loss: 0.0501 - accuracy: 0.9848"
     ]
    }
   ],
   "source": [
    "history = model.fit(x_train,y_train,validation_data = (x_test,y_test),epochs = 10,callbacks = tf_callbacks)"
   ]
  },
  {
   "cell_type": "code",
   "execution_count": null,
   "id": "3c737191",
   "metadata": {},
   "outputs": [],
   "source": [
    "load_ext tensorboard"
   ]
  },
  {
   "cell_type": "code",
   "execution_count": null,
   "id": "634ec3d4",
   "metadata": {},
   "outputs": [],
   "source": [
    "tensorboard --logdir logs/fit"
   ]
  },
  {
   "cell_type": "code",
   "execution_count": null,
   "id": "6994ac0b",
   "metadata": {},
   "outputs": [],
   "source": []
  },
  {
   "cell_type": "code",
   "execution_count": null,
   "id": "867f7a94",
   "metadata": {},
   "outputs": [],
   "source": []
  }
 ],
 "metadata": {
  "kernelspec": {
   "display_name": "Python 3 (ipykernel)",
   "language": "python",
   "name": "python3"
  },
  "language_info": {
   "codemirror_mode": {
    "name": "ipython",
    "version": 3
   },
   "file_extension": ".py",
   "mimetype": "text/x-python",
   "name": "python",
   "nbconvert_exporter": "python",
   "pygments_lexer": "ipython3",
   "version": "3.11.4"
  }
 },
 "nbformat": 4,
 "nbformat_minor": 5
}
